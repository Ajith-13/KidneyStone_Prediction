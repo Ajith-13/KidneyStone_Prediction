{
 "cells": [
  {
   "cell_type": "code",
   "execution_count": 1,
   "id": "99abe267",
   "metadata": {
    "_cell_guid": "b1076dfc-b9ad-4769-8c92-a6c4dae69d19",
    "_uuid": "8f2839f25d086af736a60e9eeb907d3b93b6e0e5",
    "execution": {
     "iopub.execute_input": "2023-06-11T06:34:47.448346Z",
     "iopub.status.busy": "2023-06-11T06:34:47.447968Z",
     "iopub.status.idle": "2023-06-11T06:34:47.463106Z",
     "shell.execute_reply": "2023-06-11T06:34:47.462326Z"
    },
    "papermill": {
     "duration": 0.026733,
     "end_time": "2023-06-11T06:34:47.465346",
     "exception": false,
     "start_time": "2023-06-11T06:34:47.438613",
     "status": "completed"
    },
    "tags": []
   },
   "outputs": [
    {
     "name": "stdout",
     "output_type": "stream",
     "text": [
      "/kaggle/input/playground-series-s3e12/sample_submission.csv\n",
      "/kaggle/input/playground-series-s3e12/train.csv\n",
      "/kaggle/input/playground-series-s3e12/test.csv\n"
     ]
    }
   ],
   "source": [
    "# This Python 3 environment comes with many helpful analytics libraries installed\n",
    "# It is defined by the kaggle/python Docker image: https://github.com/kaggle/docker-python\n",
    "# For example, here's several helpful packages to load\n",
    "\n",
    "import numpy as np # linear algebra\n",
    "import pandas as pd # data processing, CSV file I/O (e.g. pd.read_csv)\n",
    "\n",
    "# Input data files are available in the read-only \"../input/\" directory\n",
    "# For example, running this (by clicking run or pressing Shift+Enter) will list all files under the input directory\n",
    "\n",
    "import os\n",
    "for dirname, _, filenames in os.walk('/kaggle/input'):\n",
    "    for filename in filenames:\n",
    "        print(os.path.join(dirname, filename))\n",
    "\n",
    "# You can write up to 20GB to the current directory (/kaggle/working/) that gets preserved as output when you create a version using \"Save & Run All\" \n",
    "# You can also write temporary files to /kaggle/temp/, but they won't be saved outside of the current session"
   ]
  },
  {
   "cell_type": "code",
   "execution_count": 2,
   "id": "1cd0fcf7",
   "metadata": {
    "execution": {
     "iopub.execute_input": "2023-06-11T06:34:47.481665Z",
     "iopub.status.busy": "2023-06-11T06:34:47.481213Z",
     "iopub.status.idle": "2023-06-11T06:34:49.856217Z",
     "shell.execute_reply": "2023-06-11T06:34:49.854784Z"
    },
    "papermill": {
     "duration": 2.386803,
     "end_time": "2023-06-11T06:34:49.859511",
     "exception": false,
     "start_time": "2023-06-11T06:34:47.472708",
     "status": "completed"
    },
    "tags": []
   },
   "outputs": [],
   "source": [
    "import numpy as np # linear algebra\n",
    "import pandas as pd # data processing, CSV file I/O (e.g. pd.read_csv)\n",
    "import seaborn as sns\n",
    "import matplotlib.pyplot as plt\n",
    "from sklearn import svm\n",
    "from sklearn.model_selection import train_test_split\n",
    "from sklearn.metrics import accuracy_score\n",
    "\n",
    "# Machine Learning Libraries\n",
    "from sklearn.preprocessing import  StandardScaler\n",
    "from sklearn.model_selection import train_test_split\n",
    "from sklearn.metrics import accuracy_score ,precision_score, recall_score, f1_score\n",
    "from sklearn.model_selection import StratifiedKFold, cross_val_score\n",
    "from sklearn.metrics import  classification_report, confusion_matrix\n",
    "\n",
    "\n",
    "# Machine Learning Models\n",
    "from sklearn.linear_model import LogisticRegression\n",
    "from sklearn.tree import DecisionTreeClassifier\n",
    "from sklearn.ensemble import RandomForestClassifier,GradientBoostingClassifier, AdaBoostClassifier\n",
    "from xgboost import XGBClassifier\n",
    "from sklearn.svm import SVC"
   ]
  },
  {
   "cell_type": "code",
   "execution_count": 3,
   "id": "b097aac2",
   "metadata": {
    "execution": {
     "iopub.execute_input": "2023-06-11T06:34:49.876549Z",
     "iopub.status.busy": "2023-06-11T06:34:49.875977Z",
     "iopub.status.idle": "2023-06-11T06:34:49.909626Z",
     "shell.execute_reply": "2023-06-11T06:34:49.908480Z"
    },
    "papermill": {
     "duration": 0.045811,
     "end_time": "2023-06-11T06:34:49.913011",
     "exception": false,
     "start_time": "2023-06-11T06:34:49.867200",
     "status": "completed"
    },
    "tags": []
   },
   "outputs": [],
   "source": [
    "train_data=pd.read_csv(\"/kaggle/input/playground-series-s3e12/train.csv\")\n",
    "test_data=pd.read_csv(\"/kaggle/input/playground-series-s3e12/test.csv\")"
   ]
  },
  {
   "cell_type": "code",
   "execution_count": 4,
   "id": "11f21efa",
   "metadata": {
    "execution": {
     "iopub.execute_input": "2023-06-11T06:34:49.930211Z",
     "iopub.status.busy": "2023-06-11T06:34:49.929763Z",
     "iopub.status.idle": "2023-06-11T06:34:49.965071Z",
     "shell.execute_reply": "2023-06-11T06:34:49.964129Z"
    },
    "papermill": {
     "duration": 0.046567,
     "end_time": "2023-06-11T06:34:49.967495",
     "exception": false,
     "start_time": "2023-06-11T06:34:49.920928",
     "status": "completed"
    },
    "tags": []
   },
   "outputs": [
    {
     "data": {
      "text/html": [
       "<div>\n",
       "<style scoped>\n",
       "    .dataframe tbody tr th:only-of-type {\n",
       "        vertical-align: middle;\n",
       "    }\n",
       "\n",
       "    .dataframe tbody tr th {\n",
       "        vertical-align: top;\n",
       "    }\n",
       "\n",
       "    .dataframe thead th {\n",
       "        text-align: right;\n",
       "    }\n",
       "</style>\n",
       "<table border=\"1\" class=\"dataframe\">\n",
       "  <thead>\n",
       "    <tr style=\"text-align: right;\">\n",
       "      <th></th>\n",
       "      <th>id</th>\n",
       "      <th>gravity</th>\n",
       "      <th>ph</th>\n",
       "      <th>osmo</th>\n",
       "      <th>cond</th>\n",
       "      <th>urea</th>\n",
       "      <th>calc</th>\n",
       "      <th>target</th>\n",
       "    </tr>\n",
       "  </thead>\n",
       "  <tbody>\n",
       "    <tr>\n",
       "      <th>0</th>\n",
       "      <td>0</td>\n",
       "      <td>1.013</td>\n",
       "      <td>6.19</td>\n",
       "      <td>443</td>\n",
       "      <td>14.8</td>\n",
       "      <td>124</td>\n",
       "      <td>1.45</td>\n",
       "      <td>0</td>\n",
       "    </tr>\n",
       "    <tr>\n",
       "      <th>1</th>\n",
       "      <td>1</td>\n",
       "      <td>1.025</td>\n",
       "      <td>5.40</td>\n",
       "      <td>703</td>\n",
       "      <td>23.6</td>\n",
       "      <td>394</td>\n",
       "      <td>4.18</td>\n",
       "      <td>0</td>\n",
       "    </tr>\n",
       "    <tr>\n",
       "      <th>2</th>\n",
       "      <td>2</td>\n",
       "      <td>1.009</td>\n",
       "      <td>6.13</td>\n",
       "      <td>371</td>\n",
       "      <td>24.5</td>\n",
       "      <td>159</td>\n",
       "      <td>9.04</td>\n",
       "      <td>0</td>\n",
       "    </tr>\n",
       "    <tr>\n",
       "      <th>3</th>\n",
       "      <td>3</td>\n",
       "      <td>1.021</td>\n",
       "      <td>4.91</td>\n",
       "      <td>442</td>\n",
       "      <td>20.8</td>\n",
       "      <td>398</td>\n",
       "      <td>6.63</td>\n",
       "      <td>1</td>\n",
       "    </tr>\n",
       "    <tr>\n",
       "      <th>4</th>\n",
       "      <td>4</td>\n",
       "      <td>1.021</td>\n",
       "      <td>5.53</td>\n",
       "      <td>874</td>\n",
       "      <td>17.8</td>\n",
       "      <td>385</td>\n",
       "      <td>2.21</td>\n",
       "      <td>1</td>\n",
       "    </tr>\n",
       "  </tbody>\n",
       "</table>\n",
       "</div>"
      ],
      "text/plain": [
       "   id  gravity    ph  osmo  cond  urea  calc  target\n",
       "0   0    1.013  6.19   443  14.8   124  1.45       0\n",
       "1   1    1.025  5.40   703  23.6   394  4.18       0\n",
       "2   2    1.009  6.13   371  24.5   159  9.04       0\n",
       "3   3    1.021  4.91   442  20.8   398  6.63       1\n",
       "4   4    1.021  5.53   874  17.8   385  2.21       1"
      ]
     },
     "execution_count": 4,
     "metadata": {},
     "output_type": "execute_result"
    }
   ],
   "source": [
    "train_data.head()"
   ]
  },
  {
   "cell_type": "code",
   "execution_count": 5,
   "id": "656bb997",
   "metadata": {
    "execution": {
     "iopub.execute_input": "2023-06-11T06:34:49.986432Z",
     "iopub.status.busy": "2023-06-11T06:34:49.985762Z",
     "iopub.status.idle": "2023-06-11T06:34:50.000088Z",
     "shell.execute_reply": "2023-06-11T06:34:49.999062Z"
    },
    "papermill": {
     "duration": 0.027716,
     "end_time": "2023-06-11T06:34:50.002824",
     "exception": false,
     "start_time": "2023-06-11T06:34:49.975108",
     "status": "completed"
    },
    "tags": []
   },
   "outputs": [
    {
     "data": {
      "text/html": [
       "<div>\n",
       "<style scoped>\n",
       "    .dataframe tbody tr th:only-of-type {\n",
       "        vertical-align: middle;\n",
       "    }\n",
       "\n",
       "    .dataframe tbody tr th {\n",
       "        vertical-align: top;\n",
       "    }\n",
       "\n",
       "    .dataframe thead th {\n",
       "        text-align: right;\n",
       "    }\n",
       "</style>\n",
       "<table border=\"1\" class=\"dataframe\">\n",
       "  <thead>\n",
       "    <tr style=\"text-align: right;\">\n",
       "      <th></th>\n",
       "      <th>id</th>\n",
       "      <th>gravity</th>\n",
       "      <th>ph</th>\n",
       "      <th>osmo</th>\n",
       "      <th>cond</th>\n",
       "      <th>urea</th>\n",
       "      <th>calc</th>\n",
       "    </tr>\n",
       "  </thead>\n",
       "  <tbody>\n",
       "    <tr>\n",
       "      <th>0</th>\n",
       "      <td>414</td>\n",
       "      <td>1.017</td>\n",
       "      <td>5.24</td>\n",
       "      <td>345</td>\n",
       "      <td>11.5</td>\n",
       "      <td>152</td>\n",
       "      <td>1.16</td>\n",
       "    </tr>\n",
       "    <tr>\n",
       "      <th>1</th>\n",
       "      <td>415</td>\n",
       "      <td>1.020</td>\n",
       "      <td>5.68</td>\n",
       "      <td>874</td>\n",
       "      <td>29.0</td>\n",
       "      <td>385</td>\n",
       "      <td>3.46</td>\n",
       "    </tr>\n",
       "    <tr>\n",
       "      <th>2</th>\n",
       "      <td>416</td>\n",
       "      <td>1.024</td>\n",
       "      <td>5.36</td>\n",
       "      <td>698</td>\n",
       "      <td>19.5</td>\n",
       "      <td>354</td>\n",
       "      <td>13.00</td>\n",
       "    </tr>\n",
       "    <tr>\n",
       "      <th>3</th>\n",
       "      <td>417</td>\n",
       "      <td>1.020</td>\n",
       "      <td>5.33</td>\n",
       "      <td>668</td>\n",
       "      <td>25.3</td>\n",
       "      <td>252</td>\n",
       "      <td>3.46</td>\n",
       "    </tr>\n",
       "    <tr>\n",
       "      <th>4</th>\n",
       "      <td>418</td>\n",
       "      <td>1.011</td>\n",
       "      <td>5.87</td>\n",
       "      <td>567</td>\n",
       "      <td>29.0</td>\n",
       "      <td>457</td>\n",
       "      <td>2.36</td>\n",
       "    </tr>\n",
       "  </tbody>\n",
       "</table>\n",
       "</div>"
      ],
      "text/plain": [
       "    id  gravity    ph  osmo  cond  urea   calc\n",
       "0  414    1.017  5.24   345  11.5   152   1.16\n",
       "1  415    1.020  5.68   874  29.0   385   3.46\n",
       "2  416    1.024  5.36   698  19.5   354  13.00\n",
       "3  417    1.020  5.33   668  25.3   252   3.46\n",
       "4  418    1.011  5.87   567  29.0   457   2.36"
      ]
     },
     "execution_count": 5,
     "metadata": {},
     "output_type": "execute_result"
    }
   ],
   "source": [
    "test_data.head()"
   ]
  },
  {
   "cell_type": "code",
   "execution_count": 6,
   "id": "693d37b9",
   "metadata": {
    "execution": {
     "iopub.execute_input": "2023-06-11T06:34:50.020319Z",
     "iopub.status.busy": "2023-06-11T06:34:50.019934Z",
     "iopub.status.idle": "2023-06-11T06:34:50.065824Z",
     "shell.execute_reply": "2023-06-11T06:34:50.064844Z"
    },
    "papermill": {
     "duration": 0.057506,
     "end_time": "2023-06-11T06:34:50.068259",
     "exception": false,
     "start_time": "2023-06-11T06:34:50.010753",
     "status": "completed"
    },
    "tags": []
   },
   "outputs": [
    {
     "data": {
      "text/html": [
       "<div>\n",
       "<style scoped>\n",
       "    .dataframe tbody tr th:only-of-type {\n",
       "        vertical-align: middle;\n",
       "    }\n",
       "\n",
       "    .dataframe tbody tr th {\n",
       "        vertical-align: top;\n",
       "    }\n",
       "\n",
       "    .dataframe thead th {\n",
       "        text-align: right;\n",
       "    }\n",
       "</style>\n",
       "<table border=\"1\" class=\"dataframe\">\n",
       "  <thead>\n",
       "    <tr style=\"text-align: right;\">\n",
       "      <th></th>\n",
       "      <th>id</th>\n",
       "      <th>gravity</th>\n",
       "      <th>ph</th>\n",
       "      <th>osmo</th>\n",
       "      <th>cond</th>\n",
       "      <th>urea</th>\n",
       "      <th>calc</th>\n",
       "      <th>target</th>\n",
       "    </tr>\n",
       "  </thead>\n",
       "  <tbody>\n",
       "    <tr>\n",
       "      <th>count</th>\n",
       "      <td>414.000000</td>\n",
       "      <td>414.000000</td>\n",
       "      <td>414.000000</td>\n",
       "      <td>414.000000</td>\n",
       "      <td>414.000000</td>\n",
       "      <td>414.000000</td>\n",
       "      <td>414.000000</td>\n",
       "      <td>414.000000</td>\n",
       "    </tr>\n",
       "    <tr>\n",
       "      <th>mean</th>\n",
       "      <td>206.500000</td>\n",
       "      <td>1.017894</td>\n",
       "      <td>5.955459</td>\n",
       "      <td>651.545894</td>\n",
       "      <td>21.437923</td>\n",
       "      <td>278.657005</td>\n",
       "      <td>4.114638</td>\n",
       "      <td>0.444444</td>\n",
       "    </tr>\n",
       "    <tr>\n",
       "      <th>std</th>\n",
       "      <td>119.655756</td>\n",
       "      <td>0.006675</td>\n",
       "      <td>0.642260</td>\n",
       "      <td>234.676567</td>\n",
       "      <td>7.514750</td>\n",
       "      <td>136.442249</td>\n",
       "      <td>3.217641</td>\n",
       "      <td>0.497505</td>\n",
       "    </tr>\n",
       "    <tr>\n",
       "      <th>min</th>\n",
       "      <td>0.000000</td>\n",
       "      <td>1.005000</td>\n",
       "      <td>4.760000</td>\n",
       "      <td>187.000000</td>\n",
       "      <td>5.100000</td>\n",
       "      <td>10.000000</td>\n",
       "      <td>0.170000</td>\n",
       "      <td>0.000000</td>\n",
       "    </tr>\n",
       "    <tr>\n",
       "      <th>25%</th>\n",
       "      <td>103.250000</td>\n",
       "      <td>1.012000</td>\n",
       "      <td>5.530000</td>\n",
       "      <td>455.250000</td>\n",
       "      <td>15.500000</td>\n",
       "      <td>170.000000</td>\n",
       "      <td>1.450000</td>\n",
       "      <td>0.000000</td>\n",
       "    </tr>\n",
       "    <tr>\n",
       "      <th>50%</th>\n",
       "      <td>206.500000</td>\n",
       "      <td>1.018000</td>\n",
       "      <td>5.740000</td>\n",
       "      <td>679.500000</td>\n",
       "      <td>22.200000</td>\n",
       "      <td>277.000000</td>\n",
       "      <td>3.130000</td>\n",
       "      <td>0.000000</td>\n",
       "    </tr>\n",
       "    <tr>\n",
       "      <th>75%</th>\n",
       "      <td>309.750000</td>\n",
       "      <td>1.022000</td>\n",
       "      <td>6.280000</td>\n",
       "      <td>840.000000</td>\n",
       "      <td>27.600000</td>\n",
       "      <td>385.000000</td>\n",
       "      <td>6.630000</td>\n",
       "      <td>1.000000</td>\n",
       "    </tr>\n",
       "    <tr>\n",
       "      <th>max</th>\n",
       "      <td>413.000000</td>\n",
       "      <td>1.040000</td>\n",
       "      <td>7.940000</td>\n",
       "      <td>1236.000000</td>\n",
       "      <td>38.000000</td>\n",
       "      <td>620.000000</td>\n",
       "      <td>14.340000</td>\n",
       "      <td>1.000000</td>\n",
       "    </tr>\n",
       "  </tbody>\n",
       "</table>\n",
       "</div>"
      ],
      "text/plain": [
       "               id     gravity          ph         osmo        cond  \\\n",
       "count  414.000000  414.000000  414.000000   414.000000  414.000000   \n",
       "mean   206.500000    1.017894    5.955459   651.545894   21.437923   \n",
       "std    119.655756    0.006675    0.642260   234.676567    7.514750   \n",
       "min      0.000000    1.005000    4.760000   187.000000    5.100000   \n",
       "25%    103.250000    1.012000    5.530000   455.250000   15.500000   \n",
       "50%    206.500000    1.018000    5.740000   679.500000   22.200000   \n",
       "75%    309.750000    1.022000    6.280000   840.000000   27.600000   \n",
       "max    413.000000    1.040000    7.940000  1236.000000   38.000000   \n",
       "\n",
       "             urea        calc      target  \n",
       "count  414.000000  414.000000  414.000000  \n",
       "mean   278.657005    4.114638    0.444444  \n",
       "std    136.442249    3.217641    0.497505  \n",
       "min     10.000000    0.170000    0.000000  \n",
       "25%    170.000000    1.450000    0.000000  \n",
       "50%    277.000000    3.130000    0.000000  \n",
       "75%    385.000000    6.630000    1.000000  \n",
       "max    620.000000   14.340000    1.000000  "
      ]
     },
     "execution_count": 6,
     "metadata": {},
     "output_type": "execute_result"
    }
   ],
   "source": [
    "train_data.describe()"
   ]
  },
  {
   "cell_type": "code",
   "execution_count": 7,
   "id": "fae46087",
   "metadata": {
    "execution": {
     "iopub.execute_input": "2023-06-11T06:34:50.087092Z",
     "iopub.status.busy": "2023-06-11T06:34:50.086074Z",
     "iopub.status.idle": "2023-06-11T06:34:50.110397Z",
     "shell.execute_reply": "2023-06-11T06:34:50.108896Z"
    },
    "papermill": {
     "duration": 0.036502,
     "end_time": "2023-06-11T06:34:50.113133",
     "exception": false,
     "start_time": "2023-06-11T06:34:50.076631",
     "status": "completed"
    },
    "tags": []
   },
   "outputs": [
    {
     "name": "stdout",
     "output_type": "stream",
     "text": [
      "<class 'pandas.core.frame.DataFrame'>\n",
      "RangeIndex: 414 entries, 0 to 413\n",
      "Data columns (total 8 columns):\n",
      " #   Column   Non-Null Count  Dtype  \n",
      "---  ------   --------------  -----  \n",
      " 0   id       414 non-null    int64  \n",
      " 1   gravity  414 non-null    float64\n",
      " 2   ph       414 non-null    float64\n",
      " 3   osmo     414 non-null    int64  \n",
      " 4   cond     414 non-null    float64\n",
      " 5   urea     414 non-null    int64  \n",
      " 6   calc     414 non-null    float64\n",
      " 7   target   414 non-null    int64  \n",
      "dtypes: float64(4), int64(4)\n",
      "memory usage: 26.0 KB\n"
     ]
    }
   ],
   "source": [
    "train_data.info()"
   ]
  },
  {
   "cell_type": "code",
   "execution_count": 8,
   "id": "421b7b09",
   "metadata": {
    "execution": {
     "iopub.execute_input": "2023-06-11T06:34:50.131978Z",
     "iopub.status.busy": "2023-06-11T06:34:50.131358Z",
     "iopub.status.idle": "2023-06-11T06:34:50.139271Z",
     "shell.execute_reply": "2023-06-11T06:34:50.138114Z"
    },
    "papermill": {
     "duration": 0.020048,
     "end_time": "2023-06-11T06:34:50.141522",
     "exception": false,
     "start_time": "2023-06-11T06:34:50.121474",
     "status": "completed"
    },
    "tags": []
   },
   "outputs": [
    {
     "data": {
      "text/plain": [
       "id         0\n",
       "gravity    0\n",
       "ph         0\n",
       "osmo       0\n",
       "cond       0\n",
       "urea       0\n",
       "calc       0\n",
       "target     0\n",
       "dtype: int64"
      ]
     },
     "execution_count": 8,
     "metadata": {},
     "output_type": "execute_result"
    }
   ],
   "source": [
    "train_data.isna().sum()"
   ]
  },
  {
   "cell_type": "code",
   "execution_count": 9,
   "id": "2595348e",
   "metadata": {
    "execution": {
     "iopub.execute_input": "2023-06-11T06:34:50.160539Z",
     "iopub.status.busy": "2023-06-11T06:34:50.160096Z",
     "iopub.status.idle": "2023-06-11T06:34:50.167799Z",
     "shell.execute_reply": "2023-06-11T06:34:50.166447Z"
    },
    "papermill": {
     "duration": 0.020773,
     "end_time": "2023-06-11T06:34:50.170854",
     "exception": false,
     "start_time": "2023-06-11T06:34:50.150081",
     "status": "completed"
    },
    "tags": []
   },
   "outputs": [],
   "source": [
    "x=train_data.iloc[:,:-1]\n",
    "y=train_data.iloc[:,-1].values"
   ]
  },
  {
   "cell_type": "code",
   "execution_count": 10,
   "id": "ba5ffb68",
   "metadata": {
    "execution": {
     "iopub.execute_input": "2023-06-11T06:34:50.190022Z",
     "iopub.status.busy": "2023-06-11T06:34:50.189370Z",
     "iopub.status.idle": "2023-06-11T06:34:50.204054Z",
     "shell.execute_reply": "2023-06-11T06:34:50.202928Z"
    },
    "papermill": {
     "duration": 0.026808,
     "end_time": "2023-06-11T06:34:50.206351",
     "exception": false,
     "start_time": "2023-06-11T06:34:50.179543",
     "status": "completed"
    },
    "tags": []
   },
   "outputs": [
    {
     "data": {
      "text/html": [
       "<div>\n",
       "<style scoped>\n",
       "    .dataframe tbody tr th:only-of-type {\n",
       "        vertical-align: middle;\n",
       "    }\n",
       "\n",
       "    .dataframe tbody tr th {\n",
       "        vertical-align: top;\n",
       "    }\n",
       "\n",
       "    .dataframe thead th {\n",
       "        text-align: right;\n",
       "    }\n",
       "</style>\n",
       "<table border=\"1\" class=\"dataframe\">\n",
       "  <thead>\n",
       "    <tr style=\"text-align: right;\">\n",
       "      <th></th>\n",
       "      <th>id</th>\n",
       "      <th>gravity</th>\n",
       "      <th>ph</th>\n",
       "      <th>osmo</th>\n",
       "      <th>cond</th>\n",
       "      <th>urea</th>\n",
       "      <th>calc</th>\n",
       "    </tr>\n",
       "  </thead>\n",
       "  <tbody>\n",
       "    <tr>\n",
       "      <th>0</th>\n",
       "      <td>0</td>\n",
       "      <td>1.013</td>\n",
       "      <td>6.19</td>\n",
       "      <td>443</td>\n",
       "      <td>14.8</td>\n",
       "      <td>124</td>\n",
       "      <td>1.45</td>\n",
       "    </tr>\n",
       "    <tr>\n",
       "      <th>1</th>\n",
       "      <td>1</td>\n",
       "      <td>1.025</td>\n",
       "      <td>5.40</td>\n",
       "      <td>703</td>\n",
       "      <td>23.6</td>\n",
       "      <td>394</td>\n",
       "      <td>4.18</td>\n",
       "    </tr>\n",
       "    <tr>\n",
       "      <th>2</th>\n",
       "      <td>2</td>\n",
       "      <td>1.009</td>\n",
       "      <td>6.13</td>\n",
       "      <td>371</td>\n",
       "      <td>24.5</td>\n",
       "      <td>159</td>\n",
       "      <td>9.04</td>\n",
       "    </tr>\n",
       "    <tr>\n",
       "      <th>3</th>\n",
       "      <td>3</td>\n",
       "      <td>1.021</td>\n",
       "      <td>4.91</td>\n",
       "      <td>442</td>\n",
       "      <td>20.8</td>\n",
       "      <td>398</td>\n",
       "      <td>6.63</td>\n",
       "    </tr>\n",
       "    <tr>\n",
       "      <th>4</th>\n",
       "      <td>4</td>\n",
       "      <td>1.021</td>\n",
       "      <td>5.53</td>\n",
       "      <td>874</td>\n",
       "      <td>17.8</td>\n",
       "      <td>385</td>\n",
       "      <td>2.21</td>\n",
       "    </tr>\n",
       "  </tbody>\n",
       "</table>\n",
       "</div>"
      ],
      "text/plain": [
       "   id  gravity    ph  osmo  cond  urea  calc\n",
       "0   0    1.013  6.19   443  14.8   124  1.45\n",
       "1   1    1.025  5.40   703  23.6   394  4.18\n",
       "2   2    1.009  6.13   371  24.5   159  9.04\n",
       "3   3    1.021  4.91   442  20.8   398  6.63\n",
       "4   4    1.021  5.53   874  17.8   385  2.21"
      ]
     },
     "execution_count": 10,
     "metadata": {},
     "output_type": "execute_result"
    }
   ],
   "source": [
    "x.head()"
   ]
  },
  {
   "cell_type": "code",
   "execution_count": 11,
   "id": "4e89b382",
   "metadata": {
    "execution": {
     "iopub.execute_input": "2023-06-11T06:34:50.225792Z",
     "iopub.status.busy": "2023-06-11T06:34:50.225057Z",
     "iopub.status.idle": "2023-06-11T06:34:50.233591Z",
     "shell.execute_reply": "2023-06-11T06:34:50.232451Z"
    },
    "papermill": {
     "duration": 0.020961,
     "end_time": "2023-06-11T06:34:50.235891",
     "exception": false,
     "start_time": "2023-06-11T06:34:50.214930",
     "status": "completed"
    },
    "tags": []
   },
   "outputs": [
    {
     "data": {
      "text/plain": [
       "array([0, 0, 0, 1, 1, 1, 1, 0, 0, 1, 1, 0, 1, 1, 0, 1, 0, 0, 0, 1, 0, 1,\n",
       "       1, 0, 1, 0, 0, 0, 0, 0, 0, 0, 0, 0, 1, 0, 0, 0, 0, 0, 0, 1, 0, 1,\n",
       "       0, 1, 0, 1, 0, 0, 0, 1, 0, 0, 0, 0, 0, 1, 0, 1, 1, 0, 1, 1, 0, 1,\n",
       "       0, 1, 0, 1, 1, 0, 1, 0, 0, 0, 1, 0, 0, 1, 0, 0, 1, 0, 0, 0, 0, 0,\n",
       "       0, 1, 1, 0, 0, 1, 1, 1, 0, 0, 0, 0, 1, 0, 1, 0, 0, 1, 0, 0, 1, 1,\n",
       "       1, 1, 1, 1, 1, 1, 0, 1, 0, 0, 1, 0, 1, 1, 0, 0, 0, 0, 1, 1, 1, 0,\n",
       "       0, 0, 0, 0, 0, 0, 0, 0, 1, 0, 1, 1, 0, 1, 1, 1, 1, 0, 0, 0, 1, 1,\n",
       "       0, 0, 1, 1, 0, 1, 0, 1, 0, 0, 0, 0, 0, 0, 1, 1, 1, 1, 0, 0, 1, 0,\n",
       "       1, 1, 0, 0, 0, 0, 1, 0, 1, 0, 0, 1, 1, 0, 1, 1, 0, 1, 0, 1, 0, 0,\n",
       "       0, 1, 1, 1, 0, 1, 1, 1, 1, 0, 1, 0, 0, 0, 1, 0, 0, 1, 1, 1, 1, 0,\n",
       "       1, 1, 0, 0, 0, 1, 1, 1, 0, 0, 0, 1, 0, 0, 0, 1, 1, 1, 1, 1, 1, 1,\n",
       "       0, 1, 0, 1, 1, 0, 0, 1, 1, 0, 1, 1, 1, 0, 0, 1, 1, 0, 0, 0, 1, 0,\n",
       "       0, 0, 1, 1, 0, 0, 0, 1, 0, 1, 1, 0, 1, 0, 1, 0, 1, 1, 1, 1, 1, 1,\n",
       "       0, 0, 1, 1, 0, 1, 1, 1, 0, 0, 0, 1, 1, 1, 0, 0, 1, 1, 0, 1, 0, 0,\n",
       "       0, 1, 0, 0, 1, 0, 0, 0, 0, 1, 0, 0, 0, 0, 1, 0, 0, 0, 1, 0, 1, 0,\n",
       "       0, 1, 0, 0, 1, 0, 0, 1, 0, 1, 0, 0, 0, 1, 1, 0, 0, 0, 1, 0, 1, 0,\n",
       "       0, 1, 0, 0, 1, 1, 1, 0, 1, 0, 1, 1, 0, 0, 0, 0, 0, 0, 1, 0, 1, 1,\n",
       "       0, 0, 1, 0, 0, 0, 0, 0, 1, 1, 0, 1, 0, 0, 0, 1, 0, 0, 1, 1, 0, 0,\n",
       "       1, 0, 0, 1, 1, 1, 1, 0, 0, 0, 0, 1, 1, 0, 0, 1, 1, 0])"
      ]
     },
     "execution_count": 11,
     "metadata": {},
     "output_type": "execute_result"
    }
   ],
   "source": [
    "y"
   ]
  },
  {
   "cell_type": "code",
   "execution_count": 12,
   "id": "8d064a71",
   "metadata": {
    "execution": {
     "iopub.execute_input": "2023-06-11T06:34:50.255541Z",
     "iopub.status.busy": "2023-06-11T06:34:50.254884Z",
     "iopub.status.idle": "2023-06-11T06:34:50.261786Z",
     "shell.execute_reply": "2023-06-11T06:34:50.260853Z"
    },
    "papermill": {
     "duration": 0.019539,
     "end_time": "2023-06-11T06:34:50.264235",
     "exception": false,
     "start_time": "2023-06-11T06:34:50.244696",
     "status": "completed"
    },
    "tags": []
   },
   "outputs": [],
   "source": [
    "from sklearn.model_selection import train_test_split\n",
    "x_train, x_test, y_train, y_test = train_test_split(x, y, test_size=0.2, random_state=10)"
   ]
  },
  {
   "cell_type": "code",
   "execution_count": 13,
   "id": "1c5de66d",
   "metadata": {
    "execution": {
     "iopub.execute_input": "2023-06-11T06:34:50.284606Z",
     "iopub.status.busy": "2023-06-11T06:34:50.283919Z",
     "iopub.status.idle": "2023-06-11T06:34:52.060121Z",
     "shell.execute_reply": "2023-06-11T06:34:52.059341Z"
    },
    "papermill": {
     "duration": 1.78913,
     "end_time": "2023-06-11T06:34:52.062253",
     "exception": false,
     "start_time": "2023-06-11T06:34:50.273123",
     "status": "completed"
    },
    "tags": []
   },
   "outputs": [
    {
     "name": "stderr",
     "output_type": "stream",
     "text": [
      "/opt/conda/lib/python3.10/site-packages/sklearn/linear_model/_logistic.py:458: ConvergenceWarning: lbfgs failed to converge (status=1):\n",
      "STOP: TOTAL NO. of ITERATIONS REACHED LIMIT.\n",
      "\n",
      "Increase the number of iterations (max_iter) or scale the data as shown in:\n",
      "    https://scikit-learn.org/stable/modules/preprocessing.html\n",
      "Please also refer to the documentation for alternative solver options:\n",
      "    https://scikit-learn.org/stable/modules/linear_model.html#logistic-regression\n",
      "  n_iter_i = _check_optimize_result(\n",
      "/opt/conda/lib/python3.10/site-packages/sklearn/linear_model/_logistic.py:458: ConvergenceWarning: lbfgs failed to converge (status=1):\n",
      "STOP: TOTAL NO. of ITERATIONS REACHED LIMIT.\n",
      "\n",
      "Increase the number of iterations (max_iter) or scale the data as shown in:\n",
      "    https://scikit-learn.org/stable/modules/preprocessing.html\n",
      "Please also refer to the documentation for alternative solver options:\n",
      "    https://scikit-learn.org/stable/modules/linear_model.html#logistic-regression\n",
      "  n_iter_i = _check_optimize_result(\n",
      "/opt/conda/lib/python3.10/site-packages/sklearn/linear_model/_logistic.py:458: ConvergenceWarning: lbfgs failed to converge (status=1):\n",
      "STOP: TOTAL NO. of ITERATIONS REACHED LIMIT.\n",
      "\n",
      "Increase the number of iterations (max_iter) or scale the data as shown in:\n",
      "    https://scikit-learn.org/stable/modules/preprocessing.html\n",
      "Please also refer to the documentation for alternative solver options:\n",
      "    https://scikit-learn.org/stable/modules/linear_model.html#logistic-regression\n",
      "  n_iter_i = _check_optimize_result(\n"
     ]
    },
    {
     "name": "stdout",
     "output_type": "stream",
     "text": [
      "Logistic Regression accuracy: 0.719 +/- 0.053\n",
      "Accuracy: 0.723\n",
      "Precision: 0.743\n",
      "Recall: 0.650\n",
      "F1-score: 0.693\n",
      "\n",
      "Decision Tree accuracy: 0.713 +/- 0.022\n",
      "Accuracy: 0.639\n",
      "Precision: 0.619\n",
      "Recall: 0.650\n",
      "F1-score: 0.634\n",
      "\n",
      "Random Forest accuracy: 0.728 +/- 0.035\n",
      "Accuracy: 0.711\n",
      "Precision: 0.722\n",
      "Recall: 0.650\n",
      "F1-score: 0.684\n",
      "\n"
     ]
    }
   ],
   "source": [
    "# Initialize the models\n",
    "models = {\n",
    "    'Logistic Regression': LogisticRegression(),\n",
    "    'Decision Tree': DecisionTreeClassifier(),\n",
    "    'Random Forest': RandomForestClassifier()\n",
    "    \n",
    "}\n",
    "\n",
    "# Train and evaluate each model using cross-validation\n",
    "for name, model in models.items():\n",
    "    scores = cross_val_score(model, x_train, y_train, cv=5, scoring='accuracy')\n",
    "    print(f\"{name} accuracy: {scores.mean():.3f} +/- {scores.std():.3f}\")\n",
    "\n",
    "        # Fit the model to the full training set and make predictions on the test set\n",
    "    model.fit(x_train, y_train)\n",
    "    y_pred = model.predict(x_test)\n",
    "    \n",
    "\n",
    "   # Evaluate the model on the test set\n",
    "    acc = accuracy_score(y_test, y_pred)\n",
    "    prec = precision_score(y_test, y_pred)\n",
    "    rec = recall_score(y_test, y_pred)\n",
    "    f1 = f1_score(y_test, y_pred)\n",
    "    \n",
    "    print(f\"Accuracy: {acc:.3f}\")\n",
    "    print(f\"Precision: {prec:.3f}\")\n",
    "    print(f\"Recall: {rec:.3f}\")\n",
    "    print(f\"F1-score: {f1:.3f}\")\n",
    "    print()"
   ]
  },
  {
   "cell_type": "code",
   "execution_count": 14,
   "id": "2e21438b",
   "metadata": {
    "execution": {
     "iopub.execute_input": "2023-06-11T06:34:52.083458Z",
     "iopub.status.busy": "2023-06-11T06:34:52.082440Z",
     "iopub.status.idle": "2023-06-11T06:34:52.229110Z",
     "shell.execute_reply": "2023-06-11T06:34:52.227814Z"
    },
    "papermill": {
     "duration": 0.159594,
     "end_time": "2023-06-11T06:34:52.231489",
     "exception": false,
     "start_time": "2023-06-11T06:34:52.071895",
     "status": "completed"
    },
    "tags": []
   },
   "outputs": [
    {
     "name": "stdout",
     "output_type": "stream",
     "text": [
      "LogisticRegression() accuracy: [0.73134328 0.63636364 0.8030303  0.71212121 0.71212121]\n",
      "0.7228915662650602\n"
     ]
    },
    {
     "name": "stderr",
     "output_type": "stream",
     "text": [
      "/opt/conda/lib/python3.10/site-packages/sklearn/linear_model/_logistic.py:458: ConvergenceWarning: lbfgs failed to converge (status=1):\n",
      "STOP: TOTAL NO. of ITERATIONS REACHED LIMIT.\n",
      "\n",
      "Increase the number of iterations (max_iter) or scale the data as shown in:\n",
      "    https://scikit-learn.org/stable/modules/preprocessing.html\n",
      "Please also refer to the documentation for alternative solver options:\n",
      "    https://scikit-learn.org/stable/modules/linear_model.html#logistic-regression\n",
      "  n_iter_i = _check_optimize_result(\n",
      "/opt/conda/lib/python3.10/site-packages/sklearn/linear_model/_logistic.py:458: ConvergenceWarning: lbfgs failed to converge (status=1):\n",
      "STOP: TOTAL NO. of ITERATIONS REACHED LIMIT.\n",
      "\n",
      "Increase the number of iterations (max_iter) or scale the data as shown in:\n",
      "    https://scikit-learn.org/stable/modules/preprocessing.html\n",
      "Please also refer to the documentation for alternative solver options:\n",
      "    https://scikit-learn.org/stable/modules/linear_model.html#logistic-regression\n",
      "  n_iter_i = _check_optimize_result(\n",
      "/opt/conda/lib/python3.10/site-packages/sklearn/linear_model/_logistic.py:458: ConvergenceWarning: lbfgs failed to converge (status=1):\n",
      "STOP: TOTAL NO. of ITERATIONS REACHED LIMIT.\n",
      "\n",
      "Increase the number of iterations (max_iter) or scale the data as shown in:\n",
      "    https://scikit-learn.org/stable/modules/preprocessing.html\n",
      "Please also refer to the documentation for alternative solver options:\n",
      "    https://scikit-learn.org/stable/modules/linear_model.html#logistic-regression\n",
      "  n_iter_i = _check_optimize_result(\n"
     ]
    }
   ],
   "source": [
    "model= LogisticRegression()\n",
    "scores = cross_val_score(model, x_train, y_train, cv=5, scoring='accuracy')\n",
    "print(f\"{model} accuracy: {scores}\")\n",
    "    \n",
    "# Fit the model to the full training set and make predictions on the test set\n",
    "model.fit(x_train, y_train)\n",
    "y_pred = model.predict(x_test)\n",
    "# Evaluate the model on the test set\n",
    "acc = accuracy_score(y_test, y_pred)\n",
    "print (acc)"
   ]
  },
  {
   "cell_type": "code",
   "execution_count": 15,
   "id": "0de9154d",
   "metadata": {
    "execution": {
     "iopub.execute_input": "2023-06-11T06:34:52.253341Z",
     "iopub.status.busy": "2023-06-11T06:34:52.252676Z",
     "iopub.status.idle": "2023-06-11T06:34:52.259397Z",
     "shell.execute_reply": "2023-06-11T06:34:52.258629Z"
    },
    "papermill": {
     "duration": 0.020249,
     "end_time": "2023-06-11T06:34:52.261523",
     "exception": false,
     "start_time": "2023-06-11T06:34:52.241274",
     "status": "completed"
    },
    "tags": []
   },
   "outputs": [
    {
     "data": {
      "text/plain": [
       "array([[34,  9],\n",
       "       [14, 26]])"
      ]
     },
     "execution_count": 15,
     "metadata": {},
     "output_type": "execute_result"
    }
   ],
   "source": [
    "confusion_matrix(y_test, y_pred)"
   ]
  },
  {
   "cell_type": "code",
   "execution_count": 16,
   "id": "ce76da81",
   "metadata": {
    "execution": {
     "iopub.execute_input": "2023-06-11T06:34:52.282861Z",
     "iopub.status.busy": "2023-06-11T06:34:52.282245Z",
     "iopub.status.idle": "2023-06-11T06:34:52.590667Z",
     "shell.execute_reply": "2023-06-11T06:34:52.589212Z"
    },
    "papermill": {
     "duration": 0.322241,
     "end_time": "2023-06-11T06:34:52.593303",
     "exception": false,
     "start_time": "2023-06-11T06:34:52.271062",
     "status": "completed"
    },
    "tags": []
   },
   "outputs": [
    {
     "data": {
      "text/plain": [
       "Text(50.722222222222214, 0.5, 'Predicted value')"
      ]
     },
     "execution_count": 16,
     "metadata": {},
     "output_type": "execute_result"
    },
    {
     "data": {
      "image/png": "[encoded data removed]",
      "text/plain": [
       "<Figure size 640x480 with 2 Axes>"
      ]
     },
     "metadata": {},
     "output_type": "display_data"
    }
   ],
   "source": [
    "\n",
    "sns.heatmap(confusion_matrix(y_test, y_pred),annot=True)\n",
    "plt.xlabel(\"True value\")\n",
    "plt.ylabel(\"Predicted value\")"
   ]
  },
  {
   "cell_type": "code",
   "execution_count": 17,
   "id": "e7197b1a",
   "metadata": {
    "execution": {
     "iopub.execute_input": "2023-06-11T06:34:52.616129Z",
     "iopub.status.busy": "2023-06-11T06:34:52.615701Z",
     "iopub.status.idle": "2023-06-11T06:34:52.631414Z",
     "shell.execute_reply": "2023-06-11T06:34:52.630397Z"
    },
    "papermill": {
     "duration": 0.029786,
     "end_time": "2023-06-11T06:34:52.633869",
     "exception": false,
     "start_time": "2023-06-11T06:34:52.604083",
     "status": "completed"
    },
    "tags": []
   },
   "outputs": [
    {
     "data": {
      "text/html": [
       "<div>\n",
       "<style scoped>\n",
       "    .dataframe tbody tr th:only-of-type {\n",
       "        vertical-align: middle;\n",
       "    }\n",
       "\n",
       "    .dataframe tbody tr th {\n",
       "        vertical-align: top;\n",
       "    }\n",
       "\n",
       "    .dataframe thead th {\n",
       "        text-align: right;\n",
       "    }\n",
       "</style>\n",
       "<table border=\"1\" class=\"dataframe\">\n",
       "  <thead>\n",
       "    <tr style=\"text-align: right;\">\n",
       "      <th></th>\n",
       "      <th>id</th>\n",
       "      <th>gravity</th>\n",
       "      <th>ph</th>\n",
       "      <th>osmo</th>\n",
       "      <th>cond</th>\n",
       "      <th>urea</th>\n",
       "      <th>calc</th>\n",
       "    </tr>\n",
       "  </thead>\n",
       "  <tbody>\n",
       "    <tr>\n",
       "      <th>0</th>\n",
       "      <td>414</td>\n",
       "      <td>1.017</td>\n",
       "      <td>5.24</td>\n",
       "      <td>345</td>\n",
       "      <td>11.5</td>\n",
       "      <td>152</td>\n",
       "      <td>1.16</td>\n",
       "    </tr>\n",
       "    <tr>\n",
       "      <th>1</th>\n",
       "      <td>415</td>\n",
       "      <td>1.020</td>\n",
       "      <td>5.68</td>\n",
       "      <td>874</td>\n",
       "      <td>29.0</td>\n",
       "      <td>385</td>\n",
       "      <td>3.46</td>\n",
       "    </tr>\n",
       "    <tr>\n",
       "      <th>2</th>\n",
       "      <td>416</td>\n",
       "      <td>1.024</td>\n",
       "      <td>5.36</td>\n",
       "      <td>698</td>\n",
       "      <td>19.5</td>\n",
       "      <td>354</td>\n",
       "      <td>13.00</td>\n",
       "    </tr>\n",
       "    <tr>\n",
       "      <th>3</th>\n",
       "      <td>417</td>\n",
       "      <td>1.020</td>\n",
       "      <td>5.33</td>\n",
       "      <td>668</td>\n",
       "      <td>25.3</td>\n",
       "      <td>252</td>\n",
       "      <td>3.46</td>\n",
       "    </tr>\n",
       "    <tr>\n",
       "      <th>4</th>\n",
       "      <td>418</td>\n",
       "      <td>1.011</td>\n",
       "      <td>5.87</td>\n",
       "      <td>567</td>\n",
       "      <td>29.0</td>\n",
       "      <td>457</td>\n",
       "      <td>2.36</td>\n",
       "    </tr>\n",
       "  </tbody>\n",
       "</table>\n",
       "</div>"
      ],
      "text/plain": [
       "    id  gravity    ph  osmo  cond  urea   calc\n",
       "0  414    1.017  5.24   345  11.5   152   1.16\n",
       "1  415    1.020  5.68   874  29.0   385   3.46\n",
       "2  416    1.024  5.36   698  19.5   354  13.00\n",
       "3  417    1.020  5.33   668  25.3   252   3.46\n",
       "4  418    1.011  5.87   567  29.0   457   2.36"
      ]
     },
     "execution_count": 17,
     "metadata": {},
     "output_type": "execute_result"
    }
   ],
   "source": [
    "test_data.head()"
   ]
  },
  {
   "cell_type": "code",
   "execution_count": 18,
   "id": "6b7ac156",
   "metadata": {
    "execution": {
     "iopub.execute_input": "2023-06-11T06:34:52.656398Z",
     "iopub.status.busy": "2023-06-11T06:34:52.655993Z",
     "iopub.status.idle": "2023-06-11T06:34:52.661202Z",
     "shell.execute_reply": "2023-06-11T06:34:52.660029Z"
    },
    "papermill": {
     "duration": 0.019045,
     "end_time": "2023-06-11T06:34:52.663344",
     "exception": false,
     "start_time": "2023-06-11T06:34:52.644299",
     "status": "completed"
    },
    "tags": []
   },
   "outputs": [],
   "source": [
    "test=test_data.iloc[:,:]"
   ]
  },
  {
   "cell_type": "code",
   "execution_count": 19,
   "id": "0358c1f7",
   "metadata": {
    "execution": {
     "iopub.execute_input": "2023-06-11T06:34:52.685873Z",
     "iopub.status.busy": "2023-06-11T06:34:52.685453Z",
     "iopub.status.idle": "2023-06-11T06:34:52.696016Z",
     "shell.execute_reply": "2023-06-11T06:34:52.694928Z"
    },
    "papermill": {
     "duration": 0.024569,
     "end_time": "2023-06-11T06:34:52.698256",
     "exception": false,
     "start_time": "2023-06-11T06:34:52.673687",
     "status": "completed"
    },
    "tags": []
   },
   "outputs": [
    {
     "data": {
      "text/plain": [
       "array([0, 0, 1, 0, 0, 1, 0, 1, 0, 0, 0, 0, 1, 0, 0, 0, 1, 0, 0, 0, 0, 0,\n",
       "       0, 1, 1, 0, 0, 0, 0, 1, 1, 1, 0, 1, 1, 0, 1, 1, 0, 0, 1, 0, 1, 0,\n",
       "       1, 0, 1, 0, 0, 0, 1, 1, 0, 0, 0, 0, 1, 0, 0, 0, 1, 0, 0, 0, 0, 1,\n",
       "       0, 1, 0, 0, 0, 1, 0, 1, 0, 0, 1, 0, 0, 1, 0, 0, 0, 0, 1, 0, 0, 0,\n",
       "       0, 1, 0, 0, 0, 0, 0, 1, 0, 0, 1, 0, 0, 1, 1, 0, 1, 0, 0, 1, 1, 1,\n",
       "       0, 0, 1, 0, 0, 0, 0, 0, 0, 1, 0, 0, 0, 0, 0, 0, 1, 1, 1, 0, 1, 0,\n",
       "       0, 0, 1, 1, 0, 1, 0, 0, 0, 0, 0, 1, 1, 1, 0, 1, 1, 1, 0, 1, 0, 0,\n",
       "       1, 1, 1, 0, 0, 1, 0, 0, 1, 0, 0, 0, 1, 0, 1, 0, 0, 0, 1, 1, 0, 0,\n",
       "       0, 0, 1, 0, 1, 1, 0, 0, 0, 0, 0, 0, 1, 0, 0, 1, 1, 0, 0, 0, 1, 0,\n",
       "       0, 1, 0, 0, 0, 0, 0, 0, 1, 1, 0, 0, 0, 1, 1, 0, 1, 1, 1, 0, 0, 0,\n",
       "       1, 1, 0, 1, 0, 0, 0, 0, 0, 0, 0, 1, 1, 1, 1, 1, 1, 0, 1, 1, 0, 0,\n",
       "       1, 0, 0, 0, 1, 1, 1, 1, 1, 0, 0, 0, 0, 1, 1, 1, 1, 0, 0, 1, 0, 1,\n",
       "       0, 0, 1, 1, 0, 0, 1, 1, 0, 1, 0, 0])"
      ]
     },
     "execution_count": 19,
     "metadata": {},
     "output_type": "execute_result"
    }
   ],
   "source": [
    "result=model.predict(test)\n",
    "result"
   ]
  },
  {
   "cell_type": "code",
   "execution_count": 20,
   "id": "d7131eb7",
   "metadata": {
    "execution": {
     "iopub.execute_input": "2023-06-11T06:34:52.721694Z",
     "iopub.status.busy": "2023-06-11T06:34:52.721276Z",
     "iopub.status.idle": "2023-06-11T06:34:52.739707Z",
     "shell.execute_reply": "2023-06-11T06:34:52.738562Z"
    },
    "papermill": {
     "duration": 0.033404,
     "end_time": "2023-06-11T06:34:52.742355",
     "exception": false,
     "start_time": "2023-06-11T06:34:52.708951",
     "status": "completed"
    },
    "tags": []
   },
   "outputs": [
    {
     "data": {
      "text/html": [
       "<div>\n",
       "<style scoped>\n",
       "    .dataframe tbody tr th:only-of-type {\n",
       "        vertical-align: middle;\n",
       "    }\n",
       "\n",
       "    .dataframe tbody tr th {\n",
       "        vertical-align: top;\n",
       "    }\n",
       "\n",
       "    .dataframe thead th {\n",
       "        text-align: right;\n",
       "    }\n",
       "</style>\n",
       "<table border=\"1\" class=\"dataframe\">\n",
       "  <thead>\n",
       "    <tr style=\"text-align: right;\">\n",
       "      <th></th>\n",
       "      <th>id</th>\n",
       "      <th>target</th>\n",
       "    </tr>\n",
       "  </thead>\n",
       "  <tbody>\n",
       "    <tr>\n",
       "      <th>0</th>\n",
       "      <td>414</td>\n",
       "      <td>0.5</td>\n",
       "    </tr>\n",
       "    <tr>\n",
       "      <th>1</th>\n",
       "      <td>415</td>\n",
       "      <td>0.5</td>\n",
       "    </tr>\n",
       "    <tr>\n",
       "      <th>2</th>\n",
       "      <td>416</td>\n",
       "      <td>0.5</td>\n",
       "    </tr>\n",
       "    <tr>\n",
       "      <th>3</th>\n",
       "      <td>417</td>\n",
       "      <td>0.5</td>\n",
       "    </tr>\n",
       "    <tr>\n",
       "      <th>4</th>\n",
       "      <td>418</td>\n",
       "      <td>0.5</td>\n",
       "    </tr>\n",
       "    <tr>\n",
       "      <th>...</th>\n",
       "      <td>...</td>\n",
       "      <td>...</td>\n",
       "    </tr>\n",
       "    <tr>\n",
       "      <th>271</th>\n",
       "      <td>685</td>\n",
       "      <td>0.5</td>\n",
       "    </tr>\n",
       "    <tr>\n",
       "      <th>272</th>\n",
       "      <td>686</td>\n",
       "      <td>0.5</td>\n",
       "    </tr>\n",
       "    <tr>\n",
       "      <th>273</th>\n",
       "      <td>687</td>\n",
       "      <td>0.5</td>\n",
       "    </tr>\n",
       "    <tr>\n",
       "      <th>274</th>\n",
       "      <td>688</td>\n",
       "      <td>0.5</td>\n",
       "    </tr>\n",
       "    <tr>\n",
       "      <th>275</th>\n",
       "      <td>689</td>\n",
       "      <td>0.5</td>\n",
       "    </tr>\n",
       "  </tbody>\n",
       "</table>\n",
       "<p>276 rows × 2 columns</p>\n",
       "</div>"
      ],
      "text/plain": [
       "      id  target\n",
       "0    414     0.5\n",
       "1    415     0.5\n",
       "2    416     0.5\n",
       "3    417     0.5\n",
       "4    418     0.5\n",
       "..   ...     ...\n",
       "271  685     0.5\n",
       "272  686     0.5\n",
       "273  687     0.5\n",
       "274  688     0.5\n",
       "275  689     0.5\n",
       "\n",
       "[276 rows x 2 columns]"
      ]
     },
     "execution_count": 20,
     "metadata": {},
     "output_type": "execute_result"
    }
   ],
   "source": [
    "a=pd.read_csv('/kaggle/input/playground-series-s3e12/sample_submission.csv')\n",
    "a"
   ]
  },
  {
   "cell_type": "code",
   "execution_count": null,
   "id": "9b187697",
   "metadata": {
    "papermill": {
     "duration": 0.010813,
     "end_time": "2023-06-11T06:34:52.764086",
     "exception": false,
     "start_time": "2023-06-11T06:34:52.753273",
     "status": "completed"
    },
    "tags": []
   },
   "outputs": [],
   "source": []
  }
 ],
 "metadata": {
  "kernelspec": {
   "display_name": "Python 3",
   "language": "python",
   "name": "python3"
  },
  "language_info": {
   "codemirror_mode": {
    "name": "ipython",
    "version": 3
   },
   "file_extension": ".py",
   "mimetype": "text/x-python",
   "name": "python",
   "nbconvert_exporter": "python",
   "pygments_lexer": "ipython3",
   "version": "3.10.10"
  },
  "papermill": {
   "default_parameters": {},
   "duration": 18.81716,
   "end_time": "2023-06-11T06:34:53.798119",
   "environment_variables": {},
   "exception": null,
   "input_path": "__notebook__.ipynb",
   "output_path": "__notebook__.ipynb",
   "parameters": {},
   "start_time": "2023-06-11T06:34:34.980959",
   "version": "2.4.0"
  }
 },
 "nbformat": 4,
 "nbformat_minor": 5
}
